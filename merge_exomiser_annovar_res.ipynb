{
 "cells": [
  {
   "cell_type": "code",
   "execution_count": 74,
   "metadata": {},
   "outputs": [
    {
     "name": "stdout",
     "output_type": "stream",
     "text": [
      "['R1', 'R2', 'R3', 'R4']\n",
      "['>R1\\nA73G, 248delA, A263G, 310insC, 514delCA, A750G, A1438G, A2706G, C3970T, C4086T, A4769G, C5360T, T6392C, G6962A, C7028T, A8149G, T8433C, A8860G, A9041G, G9053A, G9548A, C10192T, G10310A, T10609C, A11002G, G11719A, A12172G, G12406A, C12882T, G13759A, G13928C, G14560A, C14766T, A15326G, T15541C, G16129A, A16162G, T16172C, T16304C, T16519C\\n', '>R2\\nA73G, G207A, A263G, 310insC, G499A, A750G, A827G, A1438G, G1719A, A2220G, A2706G, 3106delC, C3106A, N3107C, A4769G, G4820A, T5302C, 5894insC, G6023A, T6216C, T6413C, C7028T, 8271delACCCCCTCT, A8860G, T10604C, G11719A, G13590A, C14766T, A15326G, C15535T, T16136C, A16182C, A16183C, T16189C, T16217C, T16519C\\n', '>R3\\nA73G, C150T, A263G, 309insCCT, T310C, A750G, T1193C, A1438G, A2706G, A4769G, A5894C, C7028T, 8271delACCCCCTCT, A8701G, A8860G, G9452A, C10849T, G11719A, G11914A, A12950G, G13928C, G14305A, C14766T, A15326G, T16093C, C16179T, 16181insC, A16182C, A16183C, T16189C\\n', '>R4\\nA73G, 248delA, A263G, 310insC, 514delCA, A750G, A1438G, A2706G, T2885C, 3106delC, N3107C, C3970T, C4086T, G4512A, A4769G, T6392C, G6962A, C7028T, A8860G, G9053A, C10223T, G10310A, T10609C, G11719A, G12406A, C12882T, G13759A, G13928C, C14766T, A15326G, T15565C, T16086C, G16129A, T16172C, 16183insC, 16189delT, T16189C, T16304C, T16519C\\n']\n"
     ]
    }
   ],
   "source": [
    "import pandas as pd\n",
    "import numpy as np\n",
    "from dataclasses import replace\n",
    "XXXX=['res_repli','res_ctrl_path','res_test']\n",
    "for test_design in XXXX:\n",
    "    path=[]\n",
    "    file_lst=[]\n",
    "    test_file=test_design+'.txt'\n",
    "    with open(test_file) as path_info :\n",
    "        for line in path_info:\n",
    "            if \":\" in line:\n",
    "                path.append((line.split(\"/\")[-1][:-2]))\n",
    "    #print(path)\n",
    "    for path_ele in path:\n",
    "        file=path_ele+'.hg19_multianno.txt'\n",
    "        annov = pd.read_csv(file,sep='\\t')\n",
    "        a=[]\n",
    "        ref=list(annov['Ref'])\n",
    "        pos=list(annov['Start'])\n",
    "        alt=list(annov['Alt'])\n",
    "\n",
    "        cg_ref=[]\n",
    "        cg_alt=[]\n",
    "        for line in ref: \n",
    "            if \"0\" in line:\n",
    "                line=line.replace('0','N')\n",
    "            if '-' in line:\n",
    "                line=line.replace('-','')\n",
    "            cg_ref.append(line)\n",
    "        for line in alt: \n",
    "            if \"0\" in line:\n",
    "                line=line.replace('0','N')\n",
    "            if '-' in line:\n",
    "                line=line.replace('-','')\n",
    "            cg_alt.append(line)\n",
    "\n",
    "        num_row=len(ref)\n",
    "        ref=cg_ref\n",
    "        alt=cg_alt\n",
    "\n",
    "        i=0\n",
    "        fas=[]\n",
    "        for i in range(num_row):\n",
    "            if len(ref[i]) == len(alt[i]):\n",
    "                merge= ref[i] + str(pos[i]) + alt[i]\n",
    "            elif len(ref[i]) < len(alt[i]):\n",
    "                merge= str(pos[i])+'ins'+alt[i]\n",
    "            elif len(ref[i]) > len(alt[i]):\n",
    "                merge= str(pos[i])+'del'+ref[i]\n",
    "            fas.append(merge)\n",
    "            i=i+1\n",
    "        #res_name=path_ele+\"_change.fa\"\n",
    "        header=\">\"+path_ele+'\\n'\n",
    "        fas=str(fas)\n",
    "        fas=fas.replace(\"[\",\"\")\n",
    "        fas=fas.replace(\"'\",\"\")\n",
    "        fas=fas.replace(']','')\n",
    "        fas=fas+'\\n'\n",
    "        a=header+fas\n",
    "        file_lst.append(a)\n",
    "    #with open('merge_test.fa','w') as final_res:\n",
    "        #final_res.write(a)\n",
    "    print(file_lst)\n",
    "    res_name=test_design+'_merge_test.fa'\n",
    "    with open(res_name,'w') as final_res:\n",
    "        for i in file_lst:\n",
    "            final_res.write(i)"
   ]
  },
  {
   "cell_type": "code",
   "execution_count": 70,
   "metadata": {},
   "outputs": [
    {
     "data": {
      "text/plain": [
       "'>R4\\nA73G, 248delA, A263G, 310insC, 514delCA, A750G, A1438G, A2706G, T2885C, 3106delC, N3107C, C3970T, C4086T, G4512A, A4769G, T6392C, G6962A, C7028T, A8860G, G9053A, C10223T, G10310A, T10609C, G11719A, G12406A, C12882T, G13759A, G13928C, C14766T, A15326G, T15565C, T16086C, G16129A, T16172C, 16183insC, 16189delT, T16189C, T16304C, T16519C\\n'"
      ]
     },
     "execution_count": 70,
     "metadata": {},
     "output_type": "execute_result"
    }
   ],
   "source": [
    "a"
   ]
  },
  {
   "cell_type": "code",
   "execution_count": null,
   "metadata": {},
   "outputs": [],
   "source": []
  }
 ],
 "metadata": {
  "kernelspec": {
   "display_name": "Python 3.7.4 64-bit",
   "language": "python",
   "name": "python3"
  },
  "language_info": {
   "codemirror_mode": {
    "name": "ipython",
    "version": 3
   },
   "file_extension": ".py",
   "mimetype": "text/x-python",
   "name": "python",
   "nbconvert_exporter": "python",
   "pygments_lexer": "ipython3",
   "version": "3.7.4"
  },
  "orig_nbformat": 4,
  "vscode": {
   "interpreter": {
    "hash": "aee8b7b246df8f9039afb4144a1f6fd8d2ca17a180786b69acc140d282b71a49"
   }
  }
 },
 "nbformat": 4,
 "nbformat_minor": 2
}
