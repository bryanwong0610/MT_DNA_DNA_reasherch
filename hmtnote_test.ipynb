{
 "cells": [
  {
   "cell_type": "code",
   "execution_count": 1,
   "metadata": {},
   "outputs": [
    {
     "name": "stdout",
     "output_type": "stream",
     "text": [
      "Requirement already satisfied: hmtnote in /Library/Frameworks/Python.framework/Versions/3.7/lib/python3.7/site-packages (0.7.2)\n",
      "Requirement already satisfied: numpy==1.16.4 in /Library/Frameworks/Python.framework/Versions/3.7/lib/python3.7/site-packages (from hmtnote) (1.16.4)\n",
      "Requirement already satisfied: requests==2.22.0 in /Library/Frameworks/Python.framework/Versions/3.7/lib/python3.7/site-packages (from hmtnote) (2.22.0)\n",
      "Requirement already satisfied: aiohttp==3.5.4 in /Library/Frameworks/Python.framework/Versions/3.7/lib/python3.7/site-packages (from hmtnote) (3.5.4)\n",
      "Requirement already satisfied: vcfpy2==0.1.2 in /Library/Frameworks/Python.framework/Versions/3.7/lib/python3.7/site-packages (from hmtnote) (0.1.2)\n",
      "Requirement already satisfied: scikit-allel==1.2.1 in /Library/Frameworks/Python.framework/Versions/3.7/lib/python3.7/site-packages (from hmtnote) (1.2.1)\n",
      "Requirement already satisfied: Click==7.0 in /Library/Frameworks/Python.framework/Versions/3.7/lib/python3.7/site-packages (from hmtnote) (7.0)\n",
      "Requirement already satisfied: pandas==0.24.2 in /Library/Frameworks/Python.framework/Versions/3.7/lib/python3.7/site-packages (from hmtnote) (0.24.2)\n",
      "Requirement already satisfied: aiofiles==0.4.0 in /Library/Frameworks/Python.framework/Versions/3.7/lib/python3.7/site-packages (from hmtnote) (0.4.0)\n",
      "Requirement already satisfied: chardet<4.0,>=2.0 in /Library/Frameworks/Python.framework/Versions/3.7/lib/python3.7/site-packages (from aiohttp==3.5.4->hmtnote) (3.0.4)\n",
      "Requirement already satisfied: async-timeout<4.0,>=3.0 in /Library/Frameworks/Python.framework/Versions/3.7/lib/python3.7/site-packages (from aiohttp==3.5.4->hmtnote) (3.0.1)\n",
      "Requirement already satisfied: attrs>=17.3.0 in /Library/Frameworks/Python.framework/Versions/3.7/lib/python3.7/site-packages (from aiohttp==3.5.4->hmtnote) (22.1.0)\n",
      "Requirement already satisfied: multidict<5.0,>=4.0 in /Library/Frameworks/Python.framework/Versions/3.7/lib/python3.7/site-packages (from aiohttp==3.5.4->hmtnote) (4.7.6)\n",
      "Requirement already satisfied: yarl<2.0,>=1.0 in /Library/Frameworks/Python.framework/Versions/3.7/lib/python3.7/site-packages (from aiohttp==3.5.4->hmtnote) (1.8.1)\n",
      "Requirement already satisfied: pytz>=2011k in /Library/Frameworks/Python.framework/Versions/3.7/lib/python3.7/site-packages (from pandas==0.24.2->hmtnote) (2022.1)\n",
      "Requirement already satisfied: python-dateutil>=2.5.0 in /Library/Frameworks/Python.framework/Versions/3.7/lib/python3.7/site-packages (from pandas==0.24.2->hmtnote) (2.8.2)\n",
      "Requirement already satisfied: certifi>=2017.4.17 in /Library/Frameworks/Python.framework/Versions/3.7/lib/python3.7/site-packages (from requests==2.22.0->hmtnote) (2022.6.15)\n",
      "Requirement already satisfied: idna<2.9,>=2.5 in /Library/Frameworks/Python.framework/Versions/3.7/lib/python3.7/site-packages (from requests==2.22.0->hmtnote) (2.8)\n",
      "Requirement already satisfied: urllib3!=1.25.0,!=1.25.1,<1.26,>=1.21.1 in /Library/Frameworks/Python.framework/Versions/3.7/lib/python3.7/site-packages (from requests==2.22.0->hmtnote) (1.25.11)\n",
      "Requirement already satisfied: cython in /Library/Frameworks/Python.framework/Versions/3.7/lib/python3.7/site-packages (from scikit-allel==1.2.1->hmtnote) (0.29.32)\n",
      "Requirement already satisfied: dask[array] in /Library/Frameworks/Python.framework/Versions/3.7/lib/python3.7/site-packages (from scikit-allel==1.2.1->hmtnote) (2021.7.2)\n",
      "Requirement already satisfied: pysam>=0.10.0 in /Library/Frameworks/Python.framework/Versions/3.7/lib/python3.7/site-packages (from vcfpy2==0.1.2->hmtnote) (0.19.1)\n",
      "Requirement already satisfied: six>=1.5 in /Library/Frameworks/Python.framework/Versions/3.7/lib/python3.7/site-packages (from python-dateutil>=2.5.0->pandas==0.24.2->hmtnote) (1.16.0)\n",
      "Requirement already satisfied: typing-extensions>=3.7.4 in /Library/Frameworks/Python.framework/Versions/3.7/lib/python3.7/site-packages (from yarl<2.0,>=1.0->aiohttp==3.5.4->hmtnote) (4.3.0)\n",
      "Requirement already satisfied: fsspec>=0.6.0 in /Library/Frameworks/Python.framework/Versions/3.7/lib/python3.7/site-packages (from dask[array]->scikit-allel==1.2.1->hmtnote) (2022.7.1)\n",
      "Requirement already satisfied: partd>=0.3.10 in /Library/Frameworks/Python.framework/Versions/3.7/lib/python3.7/site-packages (from dask[array]->scikit-allel==1.2.1->hmtnote) (1.3.0)\n",
      "Requirement already satisfied: cloudpickle>=1.1.1 in /Library/Frameworks/Python.framework/Versions/3.7/lib/python3.7/site-packages (from dask[array]->scikit-allel==1.2.1->hmtnote) (2.1.0)\n",
      "Requirement already satisfied: toolz>=0.8.2 in /Library/Frameworks/Python.framework/Versions/3.7/lib/python3.7/site-packages (from dask[array]->scikit-allel==1.2.1->hmtnote) (0.12.0)\n",
      "Requirement already satisfied: packaging>=20.0 in /Library/Frameworks/Python.framework/Versions/3.7/lib/python3.7/site-packages (from dask[array]->scikit-allel==1.2.1->hmtnote) (21.3)\n",
      "Requirement already satisfied: pyyaml in /Library/Frameworks/Python.framework/Versions/3.7/lib/python3.7/site-packages (from dask[array]->scikit-allel==1.2.1->hmtnote) (6.0)\n",
      "Requirement already satisfied: pyparsing!=3.0.5,>=2.0.2 in /Library/Frameworks/Python.framework/Versions/3.7/lib/python3.7/site-packages (from packaging>=20.0->dask[array]->scikit-allel==1.2.1->hmtnote) (3.0.9)\n",
      "Requirement already satisfied: locket in /Library/Frameworks/Python.framework/Versions/3.7/lib/python3.7/site-packages (from partd>=0.3.10->dask[array]->scikit-allel==1.2.1->hmtnote) (1.0.0)\n",
      "Note: you may need to restart the kernel to use updated packages.\n"
     ]
    }
   ],
   "source": [
    "pip install hmtnote"
   ]
  },
  {
   "cell_type": "code",
   "execution_count": 2,
   "metadata": {},
   "outputs": [
    {
     "name": "stdout",
     "output_type": "stream",
     "text": [
      "Package           Version\n",
      "----------------- ---------\n",
      "aiofiles          0.4.0\n",
      "aiohttp           3.5.4\n",
      "appnope           0.1.3\n",
      "async-timeout     3.0.1\n",
      "attrs             22.1.0\n",
      "backcall          0.2.0\n",
      "certifi           2022.6.15\n",
      "chardet           3.0.4\n",
      "Click             7.0\n",
      "cloudpickle       2.1.0\n",
      "Cython            0.29.32\n",
      "dask              2021.7.2\n",
      "debugpy           1.6.0\n",
      "decorator         5.1.1\n",
      "entrypoints       0.4\n",
      "fsspec            2022.7.1\n",
      "hmtnote           0.7.2\n",
      "idna              2.8\n",
      "ipykernel         6.15.0\n",
      "ipython           7.34.0\n",
      "jedi              0.18.1\n",
      "jupyter-client    7.3.4\n",
      "jupyter-core      4.10.0\n",
      "locket            1.0.0\n",
      "matplotlib-inline 0.1.3\n",
      "multidict         4.7.6\n",
      "nest-asyncio      1.5.5\n",
      "numpy             1.16.4\n",
      "packaging         21.3\n",
      "pandas            0.24.2\n",
      "parso             0.8.3\n",
      "partd             1.3.0\n",
      "pexpect           4.8.0\n",
      "pickleshare       0.7.5\n",
      "pip               22.2.2\n",
      "prompt-toolkit    3.0.30\n",
      "psutil            5.9.1\n",
      "ptyprocess        0.7.0\n",
      "Pygments          2.12.0\n",
      "pyparsing         3.0.9\n",
      "pysam             0.19.1\n",
      "python-dateutil   2.8.2\n",
      "pytz              2022.1\n",
      "PyYAML            6.0\n",
      "pyzmq             23.2.0\n",
      "requests          2.22.0\n",
      "scikit-allel      1.2.1\n",
      "setuptools        40.8.0\n",
      "six               1.16.0\n",
      "toolz             0.12.0\n",
      "tornado           6.2\n",
      "traitlets         5.3.0\n",
      "typing_extensions 4.3.0\n",
      "urllib3           1.25.11\n",
      "vcfpy2            0.1.2\n",
      "wcwidth           0.2.5\n",
      "xmltodict         0.13.0\n",
      "yarl              1.8.1\n",
      "Note: you may need to restart the kernel to use updated packages.\n"
     ]
    }
   ],
   "source": [
    "pip list"
   ]
  },
  {
   "cell_type": "code",
   "execution_count": 3,
   "metadata": {},
   "outputs": [
    {
     "name": "stdout",
     "output_type": "stream",
     "text": [
      "Name: hmtnote\n",
      "Version: 0.7.2\n",
      "Summary: Human mitochondrial variants annotation using HmtVar.\n",
      "Home-page: https://github.com/robertopreste/hmtnote\n",
      "Author: Roberto Preste\n",
      "Author-email: robertopreste@gmail.com\n",
      "License: MIT license\n",
      "Location: /Library/Frameworks/Python.framework/Versions/3.7/lib/python3.7/site-packages\n",
      "Requires: aiofiles, aiohttp, Click, numpy, pandas, requests, scikit-allel, vcfpy2\n",
      "Required-by: \n",
      "Note: you may need to restart the kernel to use updated packages.\n"
     ]
    }
   ],
   "source": [
    "pip show hmtnote"
   ]
  },
  {
   "cell_type": "code",
   "execution_count": 4,
   "metadata": {},
   "outputs": [],
   "source": [
    "from hmtnote import annotate\n",
    "annotate('')\n"
   ]
  },
  {
   "cell_type": "code",
   "execution_count": null,
   "metadata": {},
   "outputs": [],
   "source": []
  }
 ],
 "metadata": {
  "kernelspec": {
   "display_name": "Python 3.7.4 64-bit",
   "language": "python",
   "name": "python3"
  },
  "language_info": {
   "codemirror_mode": {
    "name": "ipython",
    "version": 3
   },
   "file_extension": ".py",
   "mimetype": "text/x-python",
   "name": "python",
   "nbconvert_exporter": "python",
   "pygments_lexer": "ipython3",
   "version": "3.7.4"
  },
  "orig_nbformat": 4,
  "vscode": {
   "interpreter": {
    "hash": "aee8b7b246df8f9039afb4144a1f6fd8d2ca17a180786b69acc140d282b71a49"
   }
  }
 },
 "nbformat": 4,
 "nbformat_minor": 2
}
